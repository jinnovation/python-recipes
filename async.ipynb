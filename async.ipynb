{
 "cells": [
  {
   "cell_type": "markdown",
   "metadata": {},
   "source": [
    "Hello, today we are exploring async and concurrent processing in Python."
   ]
  },
  {
   "cell_type": "markdown",
   "metadata": {},
   "source": [
    "# Distributed Job Queue\n",
    "\n",
    "First, we'll implement a toy distributed job queue in several ways.\n",
    "\n",
    "This is to say, we'll implement:\n",
    "\n",
    "- a queue to which \"jobs\" can be submitted and from which \"jobs\" can be picked up;\n",
    "- a handful of submitters;\n",
    "- a handful of executors."
   ]
  },
  {
   "cell_type": "markdown",
   "metadata": {},
   "source": [
    "## asyncio"
   ]
  },
  {
   "cell_type": "markdown",
   "metadata": {},
   "source": [
    "The stdlib library `asyncio` is, as it turns out, perfect for this."
   ]
  },
  {
   "cell_type": "code",
   "execution_count": 1,
   "metadata": {},
   "outputs": [],
   "source": [
    "import asyncio\n",
    "\n",
    "queue = asyncio.Queue(maxsize=10)"
   ]
  },
  {
   "cell_type": "markdown",
   "metadata": {},
   "source": [
    "Let's define a class that submits jobs to this queue on a set cadence.\n",
    "\n",
    "For simplicity's sake, let's say that \"jobs\" are simply integers, and that \"executing\" said job simply entails printing the value."
   ]
  },
  {
   "cell_type": "code",
   "execution_count": 2,
   "metadata": {},
   "outputs": [],
   "source": [
    "from datetime import timedelta\n",
    "from typing import Optional\n",
    "\n",
    "import uuid\n",
    "import logging\n",
    "\n",
    "logging.getLogger().setLevel(logging.INFO)\n",
    "\n",
    "class PeriodicSubmitter:\n",
    "    def __init__(\n",
    "        self, \n",
    "        queue: asyncio.Queue, \n",
    "        *,\n",
    "        cadence: timedelta = timedelta(seconds=2), \n",
    "        timeout: Optional[timedelta] = timedelta(seconds=10),\n",
    "        value: int = 100,\n",
    "        n: int = 20,\n",
    "    ):\n",
    "        self.queue = queue\n",
    "        self.cadence = cadence\n",
    "        self.timeout = timeout\n",
    "        self.value = value\n",
    "        \n",
    "        self.id: uuid.UUID = uuid.uuid4()\n",
    "\n",
    "        self.n = n\n",
    "\n",
    "        self.task = None\n",
    "        \n",
    "        logging.info(\"Created submitter %s submitting value %s\", self.id, self.value)\n",
    "\n",
    "    async def put(self) -> None:\n",
    "        try:\n",
    "            logging.info(\"Submitter %s putting %s\", self.id, self.value)\n",
    "            \n",
    "            await asyncio.wait_for(\n",
    "                self.queue.put(self.value), \n",
    "                timeout=self.timeout.total_seconds() if self.timeout else None,\n",
    "            )\n",
    "        except asyncio.TimeoutError:\n",
    "            logging.info(\"Submitter %s timed out; dropping\", self.id)\n",
    "            return\n",
    "\n",
    "        logging.info(\"Submitter %s successfully put %s\", self.id, self.value)\n",
    "\n",
    "    def start(self):\n",
    "        self.task = asyncio.create_task(self._run())\n",
    "\n",
    "    async def _run(self) -> None:\n",
    "        for _ in range(self.n):\n",
    "            await self.put()\n",
    "            asyncio.sleep(2)"
   ]
  },
  {
   "cell_type": "code",
   "execution_count": null,
   "metadata": {},
   "outputs": [
    {
     "name": "stderr",
     "output_type": "stream",
     "text": [
      "INFO:root:Created submitter fc20cd9d-5cfc-49ab-a09e-0424b97b4891 submitting value 100\n"
     ]
    },
    {
     "name": "stderr",
     "output_type": "stream",
     "text": [
      "INFO:root:Submitter fc20cd9d-5cfc-49ab-a09e-0424b97b4891 putting 100\n",
      "INFO:root:Submitter fc20cd9d-5cfc-49ab-a09e-0424b97b4891 successfully put 100\n",
      "/var/folders/14/sqncpjld5kv7qvfzb1tpds680000gn/T/ipykernel_44201/3779797965.py:51: RuntimeWarning: coroutine 'sleep' was never awaited\n",
      "  asyncio.sleep(2)\n",
      "RuntimeWarning: Enable tracemalloc to get the object allocation traceback\n",
      "INFO:root:Submitter fc20cd9d-5cfc-49ab-a09e-0424b97b4891 putting 100\n",
      "INFO:root:Submitter fc20cd9d-5cfc-49ab-a09e-0424b97b4891 successfully put 100\n",
      "INFO:root:Submitter fc20cd9d-5cfc-49ab-a09e-0424b97b4891 putting 100\n",
      "INFO:root:Submitter fc20cd9d-5cfc-49ab-a09e-0424b97b4891 successfully put 100\n",
      "INFO:root:Submitter fc20cd9d-5cfc-49ab-a09e-0424b97b4891 putting 100\n",
      "INFO:root:Submitter fc20cd9d-5cfc-49ab-a09e-0424b97b4891 successfully put 100\n",
      "INFO:root:Submitter fc20cd9d-5cfc-49ab-a09e-0424b97b4891 putting 100\n",
      "INFO:root:Submitter fc20cd9d-5cfc-49ab-a09e-0424b97b4891 successfully put 100\n",
      "INFO:root:Submitter fc20cd9d-5cfc-49ab-a09e-0424b97b4891 putting 100\n",
      "INFO:root:Submitter fc20cd9d-5cfc-49ab-a09e-0424b97b4891 successfully put 100\n",
      "INFO:root:Submitter fc20cd9d-5cfc-49ab-a09e-0424b97b4891 putting 100\n",
      "INFO:root:Submitter fc20cd9d-5cfc-49ab-a09e-0424b97b4891 successfully put 100\n",
      "INFO:root:Submitter fc20cd9d-5cfc-49ab-a09e-0424b97b4891 putting 100\n",
      "INFO:root:Submitter fc20cd9d-5cfc-49ab-a09e-0424b97b4891 successfully put 100\n",
      "INFO:root:Submitter fc20cd9d-5cfc-49ab-a09e-0424b97b4891 putting 100\n",
      "INFO:root:Submitter fc20cd9d-5cfc-49ab-a09e-0424b97b4891 successfully put 100\n",
      "INFO:root:Submitter fc20cd9d-5cfc-49ab-a09e-0424b97b4891 putting 100\n",
      "INFO:root:Submitter fc20cd9d-5cfc-49ab-a09e-0424b97b4891 successfully put 100\n",
      "INFO:root:Submitter fc20cd9d-5cfc-49ab-a09e-0424b97b4891 putting 100\n",
      "INFO:root:Submitter fc20cd9d-5cfc-49ab-a09e-0424b97b4891 successfully put 100\n",
      "/var/folders/14/sqncpjld5kv7qvfzb1tpds680000gn/T/ipykernel_44201/3779797965.py:51: RuntimeWarning: coroutine 'sleep' was never awaited\n",
      "  asyncio.sleep(2)\n",
      "RuntimeWarning: Enable tracemalloc to get the object allocation traceback\n",
      "INFO:root:Submitter fc20cd9d-5cfc-49ab-a09e-0424b97b4891 putting 100\n",
      "INFO:root:Submitter fc20cd9d-5cfc-49ab-a09e-0424b97b4891 successfully put 100\n",
      "INFO:root:Submitter fc20cd9d-5cfc-49ab-a09e-0424b97b4891 putting 100\n",
      "INFO:root:Submitter fc20cd9d-5cfc-49ab-a09e-0424b97b4891 successfully put 100\n",
      "INFO:root:Submitter fc20cd9d-5cfc-49ab-a09e-0424b97b4891 putting 100\n",
      "INFO:root:Submitter fc20cd9d-5cfc-49ab-a09e-0424b97b4891 successfully put 100\n",
      "INFO:root:Submitter fc20cd9d-5cfc-49ab-a09e-0424b97b4891 putting 100\n",
      "INFO:root:Submitter fc20cd9d-5cfc-49ab-a09e-0424b97b4891 successfully put 100\n",
      "INFO:root:Submitter fc20cd9d-5cfc-49ab-a09e-0424b97b4891 putting 100\n",
      "INFO:root:Submitter fc20cd9d-5cfc-49ab-a09e-0424b97b4891 successfully put 100\n",
      "INFO:root:Submitter fc20cd9d-5cfc-49ab-a09e-0424b97b4891 putting 100\n",
      "INFO:root:Submitter fc20cd9d-5cfc-49ab-a09e-0424b97b4891 successfully put 100\n",
      "INFO:root:Submitter fc20cd9d-5cfc-49ab-a09e-0424b97b4891 putting 100\n",
      "INFO:root:Submitter fc20cd9d-5cfc-49ab-a09e-0424b97b4891 successfully put 100\n",
      "INFO:root:Submitter fc20cd9d-5cfc-49ab-a09e-0424b97b4891 putting 100\n",
      "INFO:root:Submitter fc20cd9d-5cfc-49ab-a09e-0424b97b4891 successfully put 100\n",
      "INFO:root:Submitter fc20cd9d-5cfc-49ab-a09e-0424b97b4891 putting 100\n",
      "INFO:root:Submitter fc20cd9d-5cfc-49ab-a09e-0424b97b4891 successfully put 100\n"
     ]
    }
   ],
   "source": [
    "p = PeriodicSubmitter(queue, timeout=None)\n",
    "p.start()"
   ]
  },
  {
   "cell_type": "code",
   "execution_count": 5,
   "metadata": {},
   "outputs": [],
   "source": [
    "class GreedyProcessor:\n",
    "    def __init__(\n",
    "        self,\n",
    "        queue,\n",
    "    ):\n",
    "        self.queue = queue\n",
    "        self.id: uuid.UUID = uuid.uuid4()\n",
    "\n",
    "        logging.info(\"Created processor %s\", self.id)\n",
    "\n",
    "        self.task = None\n",
    "\n",
    "    async def get(self):\n",
    "        val = await self.queue.get()\n",
    "        logging.info(\"Processor %s got value %s\", self.id, val)\n",
    "\n",
    "    def start(self):\n",
    "        self.task = asyncio.create_task(self._run_forever())\n",
    "        return self.task\n",
    "\n",
    "    async def _run_forever(self):\n",
    "        while True:\n",
    "            await self.get()"
   ]
  },
  {
   "cell_type": "code",
   "execution_count": 6,
   "metadata": {},
   "outputs": [
    {
     "name": "stderr",
     "output_type": "stream",
     "text": [
      "INFO:root:Created processor b04884b4-2b22-46fe-a7e7-f9d4ca49ce25\n"
     ]
    }
   ],
   "source": [
    "processor = GreedyProcessor(queue)"
   ]
  },
  {
   "cell_type": "code",
   "execution_count": 8,
   "metadata": {},
   "outputs": [
    {
     "data": {
      "text/plain": [
       "<Task pending name='Task-6' coro=<GreedyProcessor._run_forever() running at /var/folders/14/sqncpjld5kv7qvfzb1tpds680000gn/T/ipykernel_44201/1050128745.py:21>>"
      ]
     },
     "execution_count": 8,
     "metadata": {},
     "output_type": "execute_result"
    },
    {
     "name": "stderr",
     "output_type": "stream",
     "text": [
      "INFO:root:Processor b04884b4-2b22-46fe-a7e7-f9d4ca49ce25 got value 100\n",
      "INFO:root:Processor b04884b4-2b22-46fe-a7e7-f9d4ca49ce25 got value 100\n",
      "INFO:root:Processor b04884b4-2b22-46fe-a7e7-f9d4ca49ce25 got value 100\n",
      "INFO:root:Processor b04884b4-2b22-46fe-a7e7-f9d4ca49ce25 got value 100\n",
      "INFO:root:Processor b04884b4-2b22-46fe-a7e7-f9d4ca49ce25 got value 100\n",
      "INFO:root:Processor b04884b4-2b22-46fe-a7e7-f9d4ca49ce25 got value 100\n",
      "INFO:root:Processor b04884b4-2b22-46fe-a7e7-f9d4ca49ce25 got value 100\n",
      "INFO:root:Processor b04884b4-2b22-46fe-a7e7-f9d4ca49ce25 got value 100\n",
      "INFO:root:Processor b04884b4-2b22-46fe-a7e7-f9d4ca49ce25 got value 100\n",
      "INFO:root:Processor b04884b4-2b22-46fe-a7e7-f9d4ca49ce25 got value 100\n",
      "INFO:root:Processor b04884b4-2b22-46fe-a7e7-f9d4ca49ce25 got value 100\n",
      "INFO:root:Processor b04884b4-2b22-46fe-a7e7-f9d4ca49ce25 got value 100\n",
      "INFO:root:Processor b04884b4-2b22-46fe-a7e7-f9d4ca49ce25 got value 100\n",
      "INFO:root:Processor b04884b4-2b22-46fe-a7e7-f9d4ca49ce25 got value 100\n",
      "INFO:root:Processor b04884b4-2b22-46fe-a7e7-f9d4ca49ce25 got value 100\n",
      "INFO:root:Processor b04884b4-2b22-46fe-a7e7-f9d4ca49ce25 got value 100\n",
      "INFO:root:Processor b04884b4-2b22-46fe-a7e7-f9d4ca49ce25 got value 100\n",
      "INFO:root:Processor b04884b4-2b22-46fe-a7e7-f9d4ca49ce25 got value 100\n",
      "INFO:root:Processor b04884b4-2b22-46fe-a7e7-f9d4ca49ce25 got value 100\n",
      "INFO:root:Processor b04884b4-2b22-46fe-a7e7-f9d4ca49ce25 got value 100\n"
     ]
    }
   ],
   "source": [
    "processor.start()"
   ]
  },
  {
   "cell_type": "code",
   "execution_count": 9,
   "metadata": {},
   "outputs": [
    {
     "data": {
      "text/plain": [
       "0"
      ]
     },
     "execution_count": 9,
     "metadata": {},
     "output_type": "execute_result"
    }
   ],
   "source": [
    "queue.qsize()"
   ]
  }
 ],
 "metadata": {
  "kernelspec": {
   "display_name": "Python 3",
   "language": "python",
   "name": "python3"
  },
  "language_info": {
   "codemirror_mode": {
    "name": "ipython",
    "version": 3
   },
   "file_extension": ".py",
   "mimetype": "text/x-python",
   "name": "python",
   "nbconvert_exporter": "python",
   "pygments_lexer": "ipython3",
   "version": "3.11.6"
  }
 },
 "nbformat": 4,
 "nbformat_minor": 2
}
